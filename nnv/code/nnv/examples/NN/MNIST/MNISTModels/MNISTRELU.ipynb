{
 "cells": [
  {
   "cell_type": "code",
   "execution_count": 24,
   "metadata": {},
   "outputs": [
    {
     "name": "stdout",
     "output_type": "stream",
     "text": [
      "X_train shape (60000, 784)\n",
      "y_train shape (60000, 1)\n",
      "X_test shape (10000, 784)\n",
      "y_test shape (10000,)\n"
     ]
    }
   ],
   "source": [
    "import math\n",
    "import numpy as np\n",
    "import h5py\n",
    "import matplotlib.pyplot as plt\n",
    "%matplotlib inline\n",
    "import tensorflow as tf\n",
    "from tensorflow import keras\n",
    "\n",
    "#Load the data\n",
    "(x_train, y_train), (x_test, y_test) = tf.keras.datasets.mnist.load_data()\n",
    "# Flatten the training and test images\n",
    "X_train_flatten =x_train.reshape(x_train.shape[0], -1)\n",
    "X_test_flatten = x_test.reshape(x_test.shape[0], -1)\n",
    "# Normalize image vectors\n",
    "X_train = X_train_flatten/255.\n",
    "X_test = X_test_flatten/255.\n",
    "y_train=y_train.reshape(y_train.shape[0],1)\n",
    "\n",
    "print(\"X_train shape\", X_train.shape)\n",
    "print(\"y_train shape\", y_train.shape)\n",
    "print(\"X_test shape\", X_test.shape)\n",
    "print(\"y_test shape\", y_test.shape)"
   ]
  },
  {
   "cell_type": "code",
   "execution_count": 25,
   "metadata": {},
   "outputs": [
    {
     "name": "stderr",
     "output_type": "stream",
     "text": [
      "/home/musaup/.conda/envs/uuv/lib/python3.5/site-packages/matplotlib/text.py:1190: FutureWarning: elementwise comparison failed; returning scalar instead, but in the future will perform elementwise comparison\n",
      "  if s != self._text:\n"
     ]
    },
    {
     "data": {
      "image/png": "[encoded data removed]",
      "text/plain": [
       "<Figure size 720x720 with 25 Axes>"
      ]
     },
     "metadata": {},
     "output_type": "display_data"
    }
   ],
   "source": [
    "plt.figure(figsize=(10,10))\n",
    "for i in range(25):\n",
    "    plt.subplot(5,5,i+1)\n",
    "    plt.xticks([])\n",
    "    plt.yticks([])\n",
    "    plt.grid(False)\n",
    "    index=np.random.randint(0,60000)\n",
    "    plt.imshow(x_train[index], cmap=plt.cm.binary)\n",
    "    plt.xlabel(y_train[index])"
   ]
  },
  {
   "cell_type": "code",
   "execution_count": null,
   "metadata": {},
   "outputs": [
    {
     "name": "stdout",
     "output_type": "stream",
     "text": [
      "Epoch 1/12\n",
      "60000/60000 [==============================] - 42s 704us/step - loss: 2.4785 - acc: 0.1425 - accuracy_metric: 0.4212\n",
      "Epoch 2/12\n",
      "60000/60000 [==============================] - 28s 460us/step - loss: 0.9213 - acc: 0.1647 - accuracy_metric: 0.6159\n",
      "Epoch 3/12\n",
      "60000/60000 [==============================] - 28s 473us/step - loss: 0.6050 - acc: 0.1992 - accuracy_metric: 0.7452\n",
      "Epoch 4/12\n",
      "60000/60000 [==============================] - 28s 460us/step - loss: 0.6150 - acc: 0.1825 - accuracy_metric: 0.7472\n",
      "Epoch 5/12\n",
      "60000/60000 [==============================] - 32s 540us/step - loss: 0.4833 - acc: 0.2046 - accuracy_metric: 0.8163\n",
      "Epoch 6/12\n",
      "60000/60000 [==============================] - 29s 482us/step - loss: 0.8561 - acc: 0.1147 - accuracy_metric: 0.6922\n",
      "Epoch 7/12\n",
      "60000/60000 [==============================] - 29s 486us/step - loss: 0.7764 - acc: 0.1464 - accuracy_metric: 0.7453\n",
      "Epoch 8/12\n",
      "60000/60000 [==============================] - 28s 467us/step - loss: 0.8126 - acc: 0.1602 - accuracy_metric: 0.7808\n",
      "Epoch 9/12\n",
      "60000/60000 [==============================] - 27s 454us/step - loss: 0.6929 - acc: 0.1816 - accuracy_metric: 0.8011\n",
      "Epoch 10/12\n",
      "60000/60000 [==============================] - 27s 456us/step - loss: 0.4500 - acc: 0.1546 - accuracy_metric: 0.8337\n",
      "Epoch 11/12\n",
      "16576/60000 [=======>......................] - ETA: 19s - loss: 0.3501 - acc: 0.1924 - accuracy_metric: 0.8918"
     ]
    }
   ],
   "source": [
    "def accuracy_metric(y_true, y_pred):\n",
    "    castToInt=tf.dtypes.cast(tf.round(y_pred),tf.int64)\n",
    "    castToInt2=tf.dtypes.cast(y_true,tf.int64)\n",
    "    return tf.equal(castToInt,castToInt2)\n",
    "\n",
    "\n",
    "model=keras.Sequential([\n",
    "    keras.layers.Dense(200,activation=tf.nn.relu,kernel_initializer=keras.initializers.glorot_normal(seed=None)),\n",
    "    keras.layers.Dense(200,activation=tf.nn.relu,kernel_initializer=keras.initializers.glorot_normal(seed=None)),\n",
    "    keras.layers.Dense(200,activation=tf.nn.relu,kernel_initializer=keras.initializers.glorot_normal(seed=None)),\n",
    "    keras.layers.Dense(200,activation=tf.nn.relu,kernel_initializer=keras.initializers.glorot_normal(seed=None)),\n",
    "    keras.layers.Dense(200,activation=tf.nn.relu,kernel_initializer=keras.initializers.glorot_normal(seed=None)),\n",
    "    #5\n",
    "    keras.layers.Dense(200,activation=tf.nn.relu,kernel_initializer=keras.initializers.glorot_normal(seed=None)),\n",
    "    keras.layers.Dense(200,activation=tf.nn.relu,kernel_initializer=keras.initializers.glorot_normal(seed=None)),\n",
    "    keras.layers.Dense(200,activation=tf.nn.relu,kernel_initializer=keras.initializers.glorot_normal(seed=None)),\n",
    "    keras.layers.Dense(200,activation=tf.nn.relu,kernel_initializer=keras.initializers.glorot_normal(seed=None)),\n",
    "    keras.layers.Dense(200,activation=tf.nn.relu,kernel_initializer=keras.initializers.glorot_normal(seed=None)),\n",
    "    #10\n",
    "    keras.layers.Dense(200,activation=tf.nn.relu,kernel_initializer=keras.initializers.glorot_normal(seed=None)),\n",
    "    keras.layers.Dense(200,activation=tf.nn.relu,kernel_initializer=keras.initializers.glorot_normal(seed=None)),\n",
    "    keras.layers.Dense(200,activation=tf.nn.relu,kernel_initializer=keras.initializers.glorot_normal(seed=None)),\n",
    "    keras.layers.Dense(200,activation=tf.nn.relu,kernel_initializer=keras.initializers.glorot_normal(seed=None)),\n",
    "    keras.layers.Dense(200,activation=tf.nn.relu,kernel_initializer=keras.initializers.glorot_normal(seed=None)),\n",
    "    #15\n",
    "    keras.layers.Dense(200,activation=tf.nn.relu,kernel_initializer=keras.initializers.glorot_normal(seed=None)),\n",
    "    keras.layers.Dense(200,activation=tf.nn.relu,kernel_initializer=keras.initializers.glorot_normal(seed=None)),\n",
    "    keras.layers.Dense(200,activation=tf.nn.relu,kernel_initializer=keras.initializers.glorot_normal(seed=None)),\n",
    "    keras.layers.Dense(200,activation=tf.nn.relu,kernel_initializer=keras.initializers.glorot_normal(seed=None)),\n",
    "    keras.layers.Dense(200,activation=tf.nn.relu,kernel_initializer=keras.initializers.glorot_normal(seed=None)),\n",
    "    #20\n",
    "    keras.layers.Dense(200,activation=tf.nn.relu),\n",
    "    keras.layers.Dense(200,activation=tf.nn.relu),\n",
    "    keras.layers.Dense(200,activation=tf.nn.relu),\n",
    "    keras.layers.Dense(200,activation=tf.nn.relu),\n",
    "    keras.layers.Dense(200,activation=tf.nn.relu),\n",
    "    #25\n",
    "    keras.layers.Dense(200,activation=tf.nn.relu),\n",
    "    keras.layers.Dense(200,activation=tf.nn.relu),\n",
    "    keras.layers.Dense(200,activation=tf.nn.relu),\n",
    "    keras.layers.Dense(200,activation=tf.nn.relu),\n",
    "    keras.layers.Dense(200,activation=tf.nn.relu),\n",
    "    #30\n",
    "    keras.layers.Dense(200,activation=tf.nn.relu),\n",
    "    keras.layers.Dense(200,activation=tf.nn.relu),\n",
    "    keras.layers.Dense(200,activation=tf.nn.relu),\n",
    "    keras.layers.Dense(200,activation=tf.nn.relu),\n",
    "    keras.layers.Dense(200,activation=tf.nn.relu),\n",
    "    #35\n",
    "    keras.layers.Dense(200,activation=tf.nn.relu),\n",
    "    keras.layers.Dense(200,activation=tf.nn.relu),\n",
    "    keras.layers.Dense(200,activation=tf.nn.relu),\n",
    "    keras.layers.Dense(200,activation=tf.nn.relu),\n",
    "    keras.layers.Dense(200,activation=tf.nn.relu),\n",
    "    #40\n",
    "    keras.layers.Dense(200,activation=tf.nn.relu),\n",
    "    keras.layers.Dense(200,activation=tf.nn.relu),\n",
    "    keras.layers.Dense(200,activation=tf.nn.relu),\n",
    "    keras.layers.Dense(200,activation=tf.nn.relu),\n",
    "    keras.layers.Dense(200,activation=tf.nn.relu),\n",
    "    #45\n",
    "    keras.layers.Dense(200,activation=tf.nn.relu),\n",
    "    keras.layers.Dense(200,activation=tf.nn.relu),\n",
    "    keras.layers.Dense(200,activation=tf.nn.relu),\n",
    "    keras.layers.Dense(200,activation=tf.nn.relu),\n",
    "    keras.layers.Dense(200,activation=tf.nn.relu),\n",
    "    #50\n",
    "    keras.layers.Dense(1, activation=tf.nn.relu)\n",
    "])\n",
    "adam = keras.optimizers.Adam(lr=0.001, beta_1=0.9, beta_2=0.999, epsilon=10e-18, decay=0.0, amsgrad=False)\n",
    "model.compile(metrics=['accuracy',accuracy_metric],loss='mean_squared_error',optimizer=adam)\n",
    "model.fit(X_train, y_train, epochs=12)"
   ]
  },
  {
   "cell_type": "code",
   "execution_count": 11,
   "metadata": {},
   "outputs": [],
   "source": [
    "predictions=model.predict(X_train)"
   ]
  },
  {
   "cell_type": "code",
   "execution_count": 12,
   "metadata": {},
   "outputs": [
    {
     "data": {
      "text/plain": [
       "array([[0.],\n",
       "       [0.],\n",
       "       [0.],\n",
       "       ...,\n",
       "       [0.],\n",
       "       [0.],\n",
       "       [0.]], dtype=float32)"
      ]
     },
     "execution_count": 12,
     "metadata": {},
     "output_type": "execute_result"
    }
   ],
   "source": [
    "np.round(predictions)"
   ]
  },
  {
   "cell_type": "code",
   "execution_count": 22,
   "metadata": {},
   "outputs": [
    {
     "data": {
      "text/plain": [
       "array([5, 0, 4, ..., 5, 6, 8], dtype=uint8)"
      ]
     },
     "execution_count": 22,
     "metadata": {},
     "output_type": "execute_result"
    }
   ],
   "source": [
    "y_train"
   ]
  },
  {
   "cell_type": "code",
   "execution_count": null,
   "metadata": {},
   "outputs": [],
   "source": [
    "    keras.layers.Dense(200,activation=tf.nn.relu),\n",
    "    keras.layers.Dense(200,activation=tf.nn.relu),\n",
    "    keras.layers.Dense(200,activation=tf.nn.relu),\n",
    "    keras.layers.Dense(200,activation=tf.nn.relu),\n",
    "    keras.layers.Dense(200,activation=tf.nn.relu),\n",
    "    #15\n",
    "    keras.layers.Dense(200,activation=tf.nn.relu),\n",
    "    keras.layers.Dense(200,activation=tf.nn.relu),\n",
    "    keras.layers.Dense(200,activation=tf.nn.relu),\n",
    "    keras.layers.Dense(200,activation=tf.nn.relu),\n",
    "    keras.layers.Dense(200,activation=tf.nn.relu),\n",
    "    #20\n",
    "    keras.layers.Dense(200,activation=tf.nn.relu),\n",
    "    keras.layers.Dense(200,activation=tf.nn.relu),\n",
    "    keras.layers.Dense(200,activation=tf.nn.relu),\n",
    "    keras.layers.Dense(200,activation=tf.nn.relu),\n",
    "    keras.layers.Dense(200,activation=tf.nn.relu),\n",
    "    #25\n",
    "    keras.layers.Dense(200,activation=tf.nn.relu),\n",
    "    keras.layers.Dense(200,activation=tf.nn.relu),\n",
    "    keras.layers.Dense(200,activation=tf.nn.relu),\n",
    "    keras.layers.Dense(200,activation=tf.nn.relu),\n",
    "    keras.layers.Dense(200,activation=tf.nn.relu),\n",
    "    #30\n",
    "    keras.layers.Dense(200,activation=tf.nn.relu),\n",
    "    keras.layers.Dense(200,activation=tf.nn.relu),\n",
    "    keras.layers.Dense(200,activation=tf.nn.relu),\n",
    "    keras.layers.Dense(200,activation=tf.nn.relu),\n",
    "    keras.layers.Dense(200,activation=tf.nn.relu),\n",
    "    #35\n",
    "    keras.layers.Dense(200,activation=tf.nn.relu),\n",
    "    keras.layers.Dense(200,activation=tf.nn.relu),\n",
    "    keras.layers.Dense(200,activation=tf.nn.relu),\n",
    "    keras.layers.Dense(200,activation=tf.nn.relu),\n",
    "    keras.layers.Dense(200,activation=tf.nn.relu),\n",
    "    #40\n",
    "    keras.layers.Dense(200,activation=tf.nn.relu),\n",
    "    keras.layers.Dense(200,activation=tf.nn.relu),\n",
    "    keras.layers.Dense(200,activation=tf.nn.relu),\n",
    "    keras.layers.Dense(200,activation=tf.nn.relu),\n",
    "    keras.layers.Dense(200,activation=tf.nn.relu),\n",
    "    #45\n",
    "    keras.layers.Dense(200,activation=tf.nn.relu),\n",
    "    keras.layers.Dense(200,activation=tf.nn.relu),\n",
    "    keras.layers.Dense(200,activation=tf.nn.relu),\n",
    "    keras.layers.Dense(200,activation=tf.nn.relu),\n",
    "    keras.layers.Dense(200,activation=tf.nn.relu),\n",
    "    #50"
   ]
  },
  {
   "cell_type": "code",
   "execution_count": 44,
   "metadata": {},
   "outputs": [],
   "source": [
    "def saveModel(model):\n",
    "    model_json = model.to_json()\n",
    "    with open(\"8000model.json\", \"w\") as json_file:\n",
    "        json_file.write(model_json)\n",
    "        model.save_weights(\"8000model.h5\")\n",
    "        print(\"Saved model to disk\")"
   ]
  },
  {
   "cell_type": "code",
   "execution_count": 45,
   "metadata": {},
   "outputs": [
    {
     "name": "stdout",
     "output_type": "stream",
     "text": [
      "Saved model to disk\n"
     ]
    }
   ],
   "source": [
    "saveModel(model)"
   ]
  },
  {
   "cell_type": "code",
   "execution_count": null,
   "metadata": {},
   "outputs": [],
   "source": []
  }
 ],
 "metadata": {
  "kernelspec": {
   "display_name": "Python 3",
   "language": "python",
   "name": "python3"
  },
  "language_info": {
   "codemirror_mode": {
    "name": "ipython",
    "version": 3
   },
   "file_extension": ".py",
   "mimetype": "text/x-python",
   "name": "python",
   "nbconvert_exporter": "python",
   "pygments_lexer": "ipython3",
   "version": "3.5.6"
  }
 },
 "nbformat": 4,
 "nbformat_minor": 2
}
